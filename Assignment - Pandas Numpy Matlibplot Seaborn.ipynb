{
 "cells": [
  {
   "cell_type": "code",
   "execution_count": 1,
   "id": "7cd0b6b7",
   "metadata": {},
   "outputs": [],
   "source": [
    "import pandas as pd\n",
    "import numpy as np\n",
    "import seaborn as sns\n",
    "\n",
    "df=pd.read_csv('weather_data.csv')\n"
   ]
  },
  {
   "cell_type": "markdown",
   "id": "2da9ad5f",
   "metadata": {},
   "source": [
    "### convert avg-monthly-precip into numpy array"
   ]
  },
  {
   "cell_type": "code",
   "execution_count": 72,
   "id": "09a0b8d0",
   "metadata": {},
   "outputs": [
    {
     "data": {
      "text/plain": [
       "array([0.7 , 0.75, 1.85, 2.93, 3.05, 2.02, 1.93, 1.62, 1.84, 1.31, 1.39,\n",
       "       0.84])"
      ]
     },
     "execution_count": 72,
     "metadata": {},
     "output_type": "execute_result"
    }
   ],
   "source": [
    "# How to convert python list into array list\n",
    "myarr=np.array([0.70,0.75,1.85,2.93,3.05,2.02,1.93,1.62,1.84,1.31,1.39,0.84])\n",
    "myarr"
   ]
  },
  {
   "cell_type": "code",
   "execution_count": null,
   "id": "693fa462",
   "metadata": {},
   "outputs": [],
   "source": [
    "### Perform Exploratory Data analysis"
   ]
  },
  {
   "cell_type": "code",
   "execution_count": 2,
   "id": "3e272a92",
   "metadata": {},
   "outputs": [
    {
     "data": {
      "text/html": [
       "<div>\n",
       "<style scoped>\n",
       "    .dataframe tbody tr th:only-of-type {\n",
       "        vertical-align: middle;\n",
       "    }\n",
       "\n",
       "    .dataframe tbody tr th {\n",
       "        vertical-align: top;\n",
       "    }\n",
       "\n",
       "    .dataframe thead th {\n",
       "        text-align: right;\n",
       "    }\n",
       "</style>\n",
       "<table border=\"1\" class=\"dataframe\">\n",
       "  <thead>\n",
       "    <tr style=\"text-align: right;\">\n",
       "      <th></th>\n",
       "      <th>upper</th>\n",
       "      <th>lower</th>\n",
       "      <th>rain</th>\n",
       "      <th>month</th>\n",
       "      <th>yr</th>\n",
       "    </tr>\n",
       "  </thead>\n",
       "  <tbody>\n",
       "    <tr>\n",
       "      <th>0</th>\n",
       "      <td>10.8</td>\n",
       "      <td>6.5</td>\n",
       "      <td>12.2</td>\n",
       "      <td>1</td>\n",
       "      <td>1987</td>\n",
       "    </tr>\n",
       "    <tr>\n",
       "      <th>1</th>\n",
       "      <td>10.5</td>\n",
       "      <td>4.5</td>\n",
       "      <td>1.3</td>\n",
       "      <td>1</td>\n",
       "      <td>1987</td>\n",
       "    </tr>\n",
       "    <tr>\n",
       "      <th>2</th>\n",
       "      <td>7.5</td>\n",
       "      <td>-1.0</td>\n",
       "      <td>0.1</td>\n",
       "      <td>1</td>\n",
       "      <td>1987</td>\n",
       "    </tr>\n",
       "    <tr>\n",
       "      <th>3</th>\n",
       "      <td>6.5</td>\n",
       "      <td>-3.3</td>\n",
       "      <td>1.1</td>\n",
       "      <td>1</td>\n",
       "      <td>1987</td>\n",
       "    </tr>\n",
       "    <tr>\n",
       "      <th>4</th>\n",
       "      <td>10.0</td>\n",
       "      <td>5.0</td>\n",
       "      <td>3.5</td>\n",
       "      <td>1</td>\n",
       "      <td>1987</td>\n",
       "    </tr>\n",
       "  </tbody>\n",
       "</table>\n",
       "</div>"
      ],
      "text/plain": [
       "   upper  lower  rain  month    yr\n",
       "0   10.8    6.5  12.2      1  1987\n",
       "1   10.5    4.5   1.3      1  1987\n",
       "2    7.5   -1.0   0.1      1  1987\n",
       "3    6.5   -3.3   1.1      1  1987\n",
       "4   10.0    5.0   3.5      1  1987"
      ]
     },
     "execution_count": 2,
     "metadata": {},
     "output_type": "execute_result"
    }
   ],
   "source": [
    "df.head()\n"
   ]
  },
  {
   "cell_type": "code",
   "execution_count": 4,
   "id": "cedaa626",
   "metadata": {},
   "outputs": [
    {
     "data": {
      "text/plain": [
       "(6940, 5)"
      ]
     },
     "execution_count": 4,
     "metadata": {},
     "output_type": "execute_result"
    }
   ],
   "source": [
    "df.shape # Display the rows and columns"
   ]
  },
  {
   "cell_type": "code",
   "execution_count": 11,
   "id": "d3e047cf",
   "metadata": {},
   "outputs": [
    {
     "name": "stdout",
     "output_type": "stream",
     "text": [
      "<class 'pandas.core.frame.DataFrame'>\n",
      "RangeIndex: 6940 entries, 0 to 6939\n",
      "Data columns (total 5 columns):\n",
      " #   Column  Non-Null Count  Dtype  \n",
      "---  ------  --------------  -----  \n",
      " 0   upper   6940 non-null   float64\n",
      " 1   lower   6940 non-null   float64\n",
      " 2   rain    6940 non-null   float64\n",
      " 3   month   6940 non-null   int64  \n",
      " 4   yr      6940 non-null   int64  \n",
      "dtypes: float64(3), int64(2)\n",
      "memory usage: 271.2 KB\n"
     ]
    }
   ],
   "source": [
    "df.info() # Display information about the data set"
   ]
  },
  {
   "cell_type": "code",
   "execution_count": 5,
   "id": "3ecf198d",
   "metadata": {},
   "outputs": [
    {
     "data": {
      "text/plain": [
       "Index(['upper', 'lower', 'rain', 'month', 'yr'], dtype='object')"
      ]
     },
     "execution_count": 5,
     "metadata": {},
     "output_type": "execute_result"
    }
   ],
   "source": [
    "df.columns # Display all the columns in the table"
   ]
  },
  {
   "cell_type": "code",
   "execution_count": 6,
   "id": "08b04c1d",
   "metadata": {},
   "outputs": [
    {
     "data": {
      "text/plain": [
       "<bound method NDFrame.describe of       upper  lower  rain  month    yr\n",
       "0      10.8    6.5  12.2      1  1987\n",
       "1      10.5    4.5   1.3      1  1987\n",
       "2       7.5   -1.0   0.1      1  1987\n",
       "3       6.5   -3.3   1.1      1  1987\n",
       "4      10.0    5.0   3.5      1  1987\n",
       "...     ...    ...   ...    ...   ...\n",
       "6935    5.0   -2.5   0.2     12  2005\n",
       "6936    2.0   -3.5   0.3     12  2005\n",
       "6937    1.5   -2.5   0.0     12  2005\n",
       "6938    3.0   -2.5   3.0     12  2005\n",
       "6939   10.0    1.3  10.5     12  2005\n",
       "\n",
       "[6940 rows x 5 columns]>"
      ]
     },
     "execution_count": 6,
     "metadata": {},
     "output_type": "execute_result"
    }
   ],
   "source": [
    "df.describe # display the stats of the dataset"
   ]
  },
  {
   "cell_type": "markdown",
   "id": "6ef0a4fb",
   "metadata": {},
   "source": [
    "### Display the stats of each column"
   ]
  },
  {
   "cell_type": "code",
   "execution_count": null,
   "id": "8e83d91b",
   "metadata": {},
   "outputs": [],
   "source": [
    "### Upper column"
   ]
  },
  {
   "cell_type": "code",
   "execution_count": 12,
   "id": "8b501770",
   "metadata": {},
   "outputs": [
    {
     "data": {
      "text/plain": [
       "14.953544668588435"
      ]
     },
     "execution_count": 12,
     "metadata": {},
     "output_type": "execute_result"
    }
   ],
   "source": [
    "df['upper'].mean()"
   ]
  },
  {
   "cell_type": "code",
   "execution_count": 14,
   "id": "581b34b7",
   "metadata": {},
   "outputs": [
    {
     "data": {
      "text/plain": [
       "6940"
      ]
     },
     "execution_count": 14,
     "metadata": {},
     "output_type": "execute_result"
    }
   ],
   "source": [
    "df['upper'].count()"
   ]
  },
  {
   "cell_type": "code",
   "execution_count": 15,
   "id": "40f95434",
   "metadata": {},
   "outputs": [
    {
     "data": {
      "text/plain": [
       "36.8"
      ]
     },
     "execution_count": 15,
     "metadata": {},
     "output_type": "execute_result"
    }
   ],
   "source": [
    "df['upper'].max()"
   ]
  },
  {
   "cell_type": "code",
   "execution_count": 16,
   "id": "6506774b",
   "metadata": {},
   "outputs": [
    {
     "data": {
      "text/plain": [
       "-6.8"
      ]
     },
     "execution_count": 16,
     "metadata": {},
     "output_type": "execute_result"
    }
   ],
   "source": [
    "df['upper'].min() "
   ]
  },
  {
   "cell_type": "code",
   "execution_count": 18,
   "id": "34903e91",
   "metadata": {},
   "outputs": [
    {
     "data": {
      "text/plain": [
       "10.3"
      ]
     },
     "execution_count": 18,
     "metadata": {},
     "output_type": "execute_result"
    }
   ],
   "source": [
    "df['upper'].quantile(.25)"
   ]
  },
  {
   "cell_type": "code",
   "execution_count": 19,
   "id": "97a11309",
   "metadata": {},
   "outputs": [
    {
     "data": {
      "text/plain": [
       "14.5"
      ]
     },
     "execution_count": 19,
     "metadata": {},
     "output_type": "execute_result"
    }
   ],
   "source": [
    "df['upper'].quantile(.50)"
   ]
  },
  {
   "cell_type": "code",
   "execution_count": 20,
   "id": "cb356062",
   "metadata": {},
   "outputs": [
    {
     "data": {
      "text/plain": [
       "19.5"
      ]
     },
     "execution_count": 20,
     "metadata": {},
     "output_type": "execute_result"
    }
   ],
   "source": [
    "df['upper'].quantile(.75)"
   ]
  },
  {
   "cell_type": "code",
   "execution_count": 79,
   "id": "cee84db5",
   "metadata": {},
   "outputs": [
    {
     "data": {
      "text/plain": [
       "<bound method NDFrame._add_numeric_operations.<locals>.std of 0       10.8\n",
       "1       10.5\n",
       "2        7.5\n",
       "3        6.5\n",
       "4       10.0\n",
       "        ... \n",
       "6935     5.0\n",
       "6936     2.0\n",
       "6937     1.5\n",
       "6938     3.0\n",
       "6939    10.0\n",
       "Name: upper, Length: 6940, dtype: float64>"
      ]
     },
     "execution_count": 79,
     "metadata": {},
     "output_type": "execute_result"
    }
   ],
   "source": [
    "df['upper'].std"
   ]
  },
  {
   "cell_type": "code",
   "execution_count": 21,
   "id": "84699739",
   "metadata": {},
   "outputs": [],
   "source": [
    "### Lower rain"
   ]
  },
  {
   "cell_type": "code",
   "execution_count": 33,
   "id": "d12f6539",
   "metadata": {},
   "outputs": [
    {
     "data": {
      "text/plain": [
       "6.080259365994291"
      ]
     },
     "execution_count": 33,
     "metadata": {},
     "output_type": "execute_result"
    }
   ],
   "source": [
    "df['lower'].mean()"
   ]
  },
  {
   "cell_type": "code",
   "execution_count": 32,
   "id": "6613e50d",
   "metadata": {},
   "outputs": [
    {
     "data": {
      "text/plain": [
       "6940"
      ]
     },
     "execution_count": 32,
     "metadata": {},
     "output_type": "execute_result"
    }
   ],
   "source": [
    "df['lower'].count()"
   ]
  },
  {
   "cell_type": "code",
   "execution_count": 31,
   "id": "def39d19",
   "metadata": {},
   "outputs": [
    {
     "data": {
      "text/plain": [
       "-11.5"
      ]
     },
     "execution_count": 31,
     "metadata": {},
     "output_type": "execute_result"
    }
   ],
   "source": [
    "df['lower'].min()"
   ]
  },
  {
   "cell_type": "code",
   "execution_count": 30,
   "id": "41871665",
   "metadata": {},
   "outputs": [
    {
     "data": {
      "text/plain": [
       "26.5"
      ]
     },
     "execution_count": 30,
     "metadata": {},
     "output_type": "execute_result"
    }
   ],
   "source": [
    "df['lower'].max()"
   ]
  },
  {
   "cell_type": "code",
   "execution_count": 29,
   "id": "d8337ce2",
   "metadata": {},
   "outputs": [
    {
     "data": {
      "text/plain": [
       "2.5"
      ]
     },
     "execution_count": 29,
     "metadata": {},
     "output_type": "execute_result"
    }
   ],
   "source": [
    "df['lower'].quantile(.25)"
   ]
  },
  {
   "cell_type": "code",
   "execution_count": 34,
   "id": "e847ca09",
   "metadata": {},
   "outputs": [
    {
     "data": {
      "text/plain": [
       "6.4"
      ]
     },
     "execution_count": 34,
     "metadata": {},
     "output_type": "execute_result"
    }
   ],
   "source": [
    "df['lower'].quantile(.50)"
   ]
  },
  {
   "cell_type": "code",
   "execution_count": 35,
   "id": "48cc10bb",
   "metadata": {},
   "outputs": [
    {
     "data": {
      "text/plain": [
       "10.0"
      ]
     },
     "execution_count": 35,
     "metadata": {},
     "output_type": "execute_result"
    }
   ],
   "source": [
    "df['lower'].quantile(.75)"
   ]
  },
  {
   "cell_type": "code",
   "execution_count": 78,
   "id": "bf759a01",
   "metadata": {},
   "outputs": [
    {
     "data": {
      "text/plain": [
       "<bound method NDFrame._add_numeric_operations.<locals>.std of 0       6.5\n",
       "1       4.5\n",
       "2      -1.0\n",
       "3      -3.3\n",
       "4       5.0\n",
       "       ... \n",
       "6935   -2.5\n",
       "6936   -3.5\n",
       "6937   -2.5\n",
       "6938   -2.5\n",
       "6939    1.3\n",
       "Name: lower, Length: 6940, dtype: float64>"
      ]
     },
     "execution_count": 78,
     "metadata": {},
     "output_type": "execute_result"
    }
   ],
   "source": [
    "df['lower'].std"
   ]
  },
  {
   "cell_type": "code",
   "execution_count": null,
   "id": "5f71816a",
   "metadata": {},
   "outputs": [],
   "source": [
    "### Rain"
   ]
  },
  {
   "cell_type": "code",
   "execution_count": 36,
   "id": "6d118084",
   "metadata": {},
   "outputs": [
    {
     "data": {
      "text/plain": [
       "1.832334293948133"
      ]
     },
     "execution_count": 36,
     "metadata": {},
     "output_type": "execute_result"
    }
   ],
   "source": [
    "df['rain'].mean()"
   ]
  },
  {
   "cell_type": "code",
   "execution_count": 37,
   "id": "69c76546",
   "metadata": {},
   "outputs": [
    {
     "data": {
      "text/plain": [
       "0.0"
      ]
     },
     "execution_count": 37,
     "metadata": {},
     "output_type": "execute_result"
    }
   ],
   "source": [
    "df['rain'].min()"
   ]
  },
  {
   "cell_type": "code",
   "execution_count": 38,
   "id": "ba29c8b5",
   "metadata": {},
   "outputs": [
    {
     "data": {
      "text/plain": [
       "59.5"
      ]
     },
     "execution_count": 38,
     "metadata": {},
     "output_type": "execute_result"
    }
   ],
   "source": [
    "df['rain'].max()"
   ]
  },
  {
   "cell_type": "code",
   "execution_count": 39,
   "id": "27a3c0e6",
   "metadata": {},
   "outputs": [
    {
     "data": {
      "text/plain": [
       "6940"
      ]
     },
     "execution_count": 39,
     "metadata": {},
     "output_type": "execute_result"
    }
   ],
   "source": [
    "df['rain'].count()"
   ]
  },
  {
   "cell_type": "code",
   "execution_count": 40,
   "id": "0253ae30",
   "metadata": {},
   "outputs": [
    {
     "data": {
      "text/plain": [
       "0.0"
      ]
     },
     "execution_count": 40,
     "metadata": {},
     "output_type": "execute_result"
    }
   ],
   "source": [
    "df['rain'].quantile(.25)"
   ]
  },
  {
   "cell_type": "code",
   "execution_count": 41,
   "id": "ac884aed",
   "metadata": {},
   "outputs": [
    {
     "data": {
      "text/plain": [
       "0.0"
      ]
     },
     "execution_count": 41,
     "metadata": {},
     "output_type": "execute_result"
    }
   ],
   "source": [
    "df['rain'].quantile(.50)"
   ]
  },
  {
   "cell_type": "code",
   "execution_count": 42,
   "id": "0690adcf",
   "metadata": {},
   "outputs": [
    {
     "data": {
      "text/plain": [
       "1.6"
      ]
     },
     "execution_count": 42,
     "metadata": {},
     "output_type": "execute_result"
    }
   ],
   "source": [
    "df['rain'].quantile(.75)"
   ]
  },
  {
   "cell_type": "code",
   "execution_count": 77,
   "id": "4372d3ee",
   "metadata": {},
   "outputs": [
    {
     "data": {
      "text/plain": [
       "<bound method NDFrame._add_numeric_operations.<locals>.std of 0       12.2\n",
       "1        1.3\n",
       "2        0.1\n",
       "3        1.1\n",
       "4        3.5\n",
       "        ... \n",
       "6935     0.2\n",
       "6936     0.3\n",
       "6937     0.0\n",
       "6938     3.0\n",
       "6939    10.5\n",
       "Name: rain, Length: 6940, dtype: float64>"
      ]
     },
     "execution_count": 77,
     "metadata": {},
     "output_type": "execute_result"
    }
   ],
   "source": [
    "df['rain'].std"
   ]
  },
  {
   "cell_type": "code",
   "execution_count": 43,
   "id": "2c712f52",
   "metadata": {},
   "outputs": [],
   "source": [
    "# month"
   ]
  },
  {
   "cell_type": "code",
   "execution_count": 44,
   "id": "50ffac82",
   "metadata": {},
   "outputs": [
    {
     "data": {
      "text/plain": [
       "6.522478386167147"
      ]
     },
     "execution_count": 44,
     "metadata": {},
     "output_type": "execute_result"
    }
   ],
   "source": [
    "df['month'].mean()"
   ]
  },
  {
   "cell_type": "code",
   "execution_count": 45,
   "id": "e496e1c4",
   "metadata": {},
   "outputs": [
    {
     "data": {
      "text/plain": [
       "12"
      ]
     },
     "execution_count": 45,
     "metadata": {},
     "output_type": "execute_result"
    }
   ],
   "source": [
    "df['month'].max()"
   ]
  },
  {
   "cell_type": "code",
   "execution_count": 46,
   "id": "36d76e4c",
   "metadata": {},
   "outputs": [
    {
     "data": {
      "text/plain": [
       "1"
      ]
     },
     "execution_count": 46,
     "metadata": {},
     "output_type": "execute_result"
    }
   ],
   "source": [
    "df['month'].min()"
   ]
  },
  {
   "cell_type": "code",
   "execution_count": 47,
   "id": "308d5ad4",
   "metadata": {},
   "outputs": [
    {
     "data": {
      "text/plain": [
       "6940"
      ]
     },
     "execution_count": 47,
     "metadata": {},
     "output_type": "execute_result"
    }
   ],
   "source": [
    "df['month'].count()"
   ]
  },
  {
   "cell_type": "code",
   "execution_count": 48,
   "id": "eeb65297",
   "metadata": {},
   "outputs": [
    {
     "data": {
      "text/plain": [
       "4.0"
      ]
     },
     "execution_count": 48,
     "metadata": {},
     "output_type": "execute_result"
    }
   ],
   "source": [
    "df['month'].quantile(.25)"
   ]
  },
  {
   "cell_type": "code",
   "execution_count": 49,
   "id": "7d549f45",
   "metadata": {},
   "outputs": [
    {
     "data": {
      "text/plain": [
       "7.0"
      ]
     },
     "execution_count": 49,
     "metadata": {},
     "output_type": "execute_result"
    }
   ],
   "source": [
    "df['month'].quantile(.50)"
   ]
  },
  {
   "cell_type": "code",
   "execution_count": 50,
   "id": "58f9515f",
   "metadata": {},
   "outputs": [
    {
     "data": {
      "text/plain": [
       "10.0"
      ]
     },
     "execution_count": 50,
     "metadata": {},
     "output_type": "execute_result"
    }
   ],
   "source": [
    "df['month'].quantile(.75)"
   ]
  },
  {
   "cell_type": "code",
   "execution_count": 76,
   "id": "d9b1e69c",
   "metadata": {},
   "outputs": [
    {
     "data": {
      "text/plain": [
       "<bound method NDFrame._add_numeric_operations.<locals>.std of 0        1\n",
       "1        1\n",
       "2        1\n",
       "3        1\n",
       "4        1\n",
       "        ..\n",
       "6935    12\n",
       "6936    12\n",
       "6937    12\n",
       "6938    12\n",
       "6939    12\n",
       "Name: month, Length: 6940, dtype: int64>"
      ]
     },
     "execution_count": 76,
     "metadata": {},
     "output_type": "execute_result"
    }
   ],
   "source": [
    "df['month'].std"
   ]
  },
  {
   "cell_type": "code",
   "execution_count": 51,
   "id": "40210fe7",
   "metadata": {},
   "outputs": [],
   "source": [
    "### yr"
   ]
  },
  {
   "cell_type": "code",
   "execution_count": 52,
   "id": "9ccb5895",
   "metadata": {},
   "outputs": [
    {
     "data": {
      "text/plain": [
       "1995.9994236311238"
      ]
     },
     "execution_count": 52,
     "metadata": {},
     "output_type": "execute_result"
    }
   ],
   "source": [
    "df['yr'].mean()"
   ]
  },
  {
   "cell_type": "code",
   "execution_count": 53,
   "id": "27ff647f",
   "metadata": {},
   "outputs": [
    {
     "data": {
      "text/plain": [
       "2005"
      ]
     },
     "execution_count": 53,
     "metadata": {},
     "output_type": "execute_result"
    }
   ],
   "source": [
    "df['yr'].max()"
   ]
  },
  {
   "cell_type": "code",
   "execution_count": 54,
   "id": "7ac564d0",
   "metadata": {},
   "outputs": [
    {
     "data": {
      "text/plain": [
       "1987"
      ]
     },
     "execution_count": 54,
     "metadata": {},
     "output_type": "execute_result"
    }
   ],
   "source": [
    "df['yr'].min()"
   ]
  },
  {
   "cell_type": "code",
   "execution_count": 55,
   "id": "f324d7b0",
   "metadata": {},
   "outputs": [
    {
     "data": {
      "text/plain": [
       "6940"
      ]
     },
     "execution_count": 55,
     "metadata": {},
     "output_type": "execute_result"
    }
   ],
   "source": [
    "df['yr'].count()"
   ]
  },
  {
   "cell_type": "code",
   "execution_count": 57,
   "id": "b16f3245",
   "metadata": {},
   "outputs": [
    {
     "data": {
      "text/plain": [
       "1991.0"
      ]
     },
     "execution_count": 57,
     "metadata": {},
     "output_type": "execute_result"
    }
   ],
   "source": [
    "df['yr'].quantile(.25)"
   ]
  },
  {
   "cell_type": "code",
   "execution_count": 58,
   "id": "b7ffa1d9",
   "metadata": {},
   "outputs": [
    {
     "data": {
      "text/plain": [
       "1996.0"
      ]
     },
     "execution_count": 58,
     "metadata": {},
     "output_type": "execute_result"
    }
   ],
   "source": [
    "df['yr'].quantile(.50)"
   ]
  },
  {
   "cell_type": "code",
   "execution_count": 105,
   "id": "d0f6bb71",
   "metadata": {},
   "outputs": [
    {
     "data": {
      "text/plain": [
       "2001.0"
      ]
     },
     "execution_count": 105,
     "metadata": {},
     "output_type": "execute_result"
    }
   ],
   "source": [
    "df['yr'].quantile(.75)"
   ]
  },
  {
   "cell_type": "code",
   "execution_count": 75,
   "id": "e3ffbd40",
   "metadata": {
    "scrolled": true
   },
   "outputs": [
    {
     "data": {
      "text/plain": [
       "<bound method NDFrame._add_numeric_operations.<locals>.std of 0       1987\n",
       "1       1987\n",
       "2       1987\n",
       "3       1987\n",
       "4       1987\n",
       "        ... \n",
       "6935    2005\n",
       "6936    2005\n",
       "6937    2005\n",
       "6938    2005\n",
       "6939    2005\n",
       "Name: yr, Length: 6940, dtype: int64>"
      ]
     },
     "execution_count": 75,
     "metadata": {},
     "output_type": "execute_result"
    }
   ],
   "source": [
    "df['yr'].std"
   ]
  },
  {
   "cell_type": "markdown",
   "id": "7382acc5",
   "metadata": {},
   "source": [
    "### Using groupby to display all the average of the seasons"
   ]
  },
  {
   "cell_type": "code",
   "execution_count": 112,
   "id": "538d0930",
   "metadata": {},
   "outputs": [
    {
     "name": "stdout",
     "output_type": "stream",
     "text": [
      "       lower   rain  month      yr\n",
      "      median median median  median\n",
      "upper                             \n",
      "-6.8  -11.30   0.30    1.0  1987.0\n",
      "-4.3   -7.50   5.30    1.0  1987.0\n",
      "-3.5   -8.90   2.95    1.5  1989.0\n",
      "-2.5   -7.90   0.80    2.0  1991.0\n",
      "-2.0   -5.50   0.00    1.0  1987.0\n",
      "...      ...    ...    ...     ...\n",
      " 33.3  13.50   0.00    7.0  1995.0\n",
      " 33.5  15.65   0.00    7.5  1996.5\n",
      " 34.8  14.50   0.00    8.0  2003.0\n",
      " 35.5  16.30   0.00    8.0  1990.0\n",
      " 36.8  18.00   0.00    8.0  2003.0\n",
      "\n",
      "[301 rows x 4 columns]\n"
     ]
    }
   ],
   "source": [
    "# Display Average stats for all the Upper seasons\n",
    "df2 =df.groupby('upper').agg(['median'])\n",
    "print(df2)"
   ]
  },
  {
   "cell_type": "code",
   "execution_count": 119,
   "id": "1578a13e",
   "metadata": {},
   "outputs": [
    {
     "name": "stdout",
     "output_type": "stream",
     "text": [
      "       upper   rain  month      yr\n",
      "      median median median  median\n",
      "lower                             \n",
      "-11.5  -3.50   0.70    1.0  1987.0\n",
      "-11.3  -6.80   0.30    1.0  1987.0\n",
      "-10.5   0.50   0.00   12.0  1991.0\n",
      "-10.0  -2.00   0.00    1.0  1997.0\n",
      "-9.8    1.80   0.00    1.0  1987.0\n",
      "...      ...    ...    ...     ...\n",
      " 18.5  29.15   0.35    8.0  1996.0\n",
      " 18.8  25.80   0.10    8.0  1997.0\n",
      " 19.0  25.90   0.00    8.0  1996.0\n",
      " 19.8  29.50   0.00    8.0  1994.0\n",
      " 26.5  29.00   0.00    8.0  1995.0\n",
      "\n",
      "[236 rows x 4 columns]\n"
     ]
    }
   ],
   "source": [
    "# Display Average stats for all the Upper seasons\n",
    "df2 =df.groupby('lower').agg(['median'])\n",
    "print(df2)"
   ]
  },
  {
   "cell_type": "code",
   "execution_count": 120,
   "id": "162e66af",
   "metadata": {},
   "outputs": [
    {
     "name": "stdout",
     "output_type": "stream",
     "text": [
      "      upper  lower  month      yr\n",
      "     median median median  median\n",
      "rain                             \n",
      "0.0    16.3    6.1    7.0  1996.0\n",
      "0.1    12.8    4.5    7.0  1997.0\n",
      "0.2    12.3    5.5    6.0  1996.0\n",
      "0.3    12.5    6.0    6.0  1997.0\n",
      "0.4    12.5    6.0    6.0  1995.5\n",
      "...     ...    ...    ...     ...\n",
      "42.5   22.5   14.8    8.0  1999.0\n",
      "43.0   26.0   13.5    8.0  2002.0\n",
      "44.5   17.0   11.5    9.0  1992.0\n",
      "54.3   13.8    7.5   10.0  1987.0\n",
      "59.5   17.0   11.5   10.0  1993.0\n",
      "\n",
      "[231 rows x 4 columns]\n"
     ]
    }
   ],
   "source": [
    "# Display Average for all the Upper seasons\n",
    "df2 =df.groupby('rain').agg(['median'])\n",
    "print(df2)"
   ]
  },
  {
   "cell_type": "code",
   "execution_count": 121,
   "id": "a8ca0a8a",
   "metadata": {},
   "outputs": [
    {
     "name": "stdout",
     "output_type": "stream",
     "text": [
      "       upper  lower   rain      yr\n",
      "      median median median  median\n",
      "month                             \n",
      "1        8.3   2.00   0.30  1996.0\n",
      "2        9.1   1.80   0.10  1996.0\n",
      "3       11.3   3.30   0.00  1996.0\n",
      "4       13.5   4.50   0.00  1996.0\n",
      "5       17.3   7.30   0.00  1996.0\n",
      "6       20.0  10.00   0.00  1996.0\n",
      "7       22.5  12.00   0.00  1996.0\n",
      "8       22.5  12.00   0.00  1996.0\n",
      "9       19.0   9.75   0.00  1996.0\n",
      "10      15.3   7.30   0.10  1996.0\n",
      "11      11.0   3.80   0.15  1996.0\n",
      "12       8.3   2.00   0.10  1996.0\n"
     ]
    }
   ],
   "source": [
    "# Display stats for all the Upper seasons\n",
    "df2 =df.groupby('month').agg(['median'])\n",
    "print(df2)"
   ]
  },
  {
   "cell_type": "code",
   "execution_count": 123,
   "id": "c67e55d1",
   "metadata": {},
   "outputs": [
    {
     "name": "stdout",
     "output_type": "stream",
     "text": [
      "      upper  lower   rain  month\n",
      "     median median median median\n",
      "yr                              \n",
      "1987  13.30   6.00   0.00    7.0\n",
      "1988  13.80   6.30   0.00    7.0\n",
      "1989  14.50   6.50   0.00    7.0\n",
      "1990  15.00   6.50   0.00    7.0\n",
      "1991  13.50   6.00   0.00    7.0\n",
      "1992  13.80   6.30   0.00    7.0\n",
      "1993  13.90   6.30   0.00    7.0\n",
      "1994  14.00   7.00   0.10    7.0\n",
      "1995  15.30   7.00   0.00    7.0\n",
      "1996  14.50   3.80   0.00    7.0\n",
      "1997  15.00   6.50   0.00    7.0\n",
      "1998  14.50   6.50   0.15    7.0\n",
      "1999  15.45   6.30   0.15    7.0\n",
      "2000  14.45   6.55   0.20    7.0\n",
      "2001  14.50   5.90   0.10    7.0\n",
      "2002  15.00   6.80   0.20    7.0\n",
      "2003  15.50   5.80   0.00    7.0\n",
      "2004  15.00   6.90   0.10    7.0\n",
      "2005  15.50   6.50   0.00    7.0\n"
     ]
    }
   ],
   "source": [
    "# Display stats for all the Upper seasons\n",
    "df2 =df.groupby('yr').agg(['median'])\n",
    "print(df2)"
   ]
  },
  {
   "cell_type": "markdown",
   "id": "f8e8fbfe",
   "metadata": {},
   "source": [
    "### Using groupby to display all the stats"
   ]
  },
  {
   "cell_type": "code",
   "execution_count": 114,
   "id": "789d7b20",
   "metadata": {},
   "outputs": [
    {
     "name": "stdout",
     "output_type": "stream",
     "text": [
      "      lower                         rain                  month               \\\n",
      "      count   min   max       mean count  min  max   mean count min max mean   \n",
      "upper                                                                          \n",
      "-6.8      1 -11.3 -11.3 -11.300000     1  0.3  0.3  0.300     1   1   1  1.0   \n",
      "-4.3      1  -7.5  -7.5  -7.500000     1  5.3  5.3  5.300     1   1   1  1.0   \n",
      "-3.5      2 -11.5  -6.3  -8.900000     2  0.7  5.2  2.950     2   1   2  1.5   \n",
      "-2.5      2  -8.3  -7.5  -7.900000     2  0.4  1.2  0.800     2   2   2  2.0   \n",
      "-2.0      3 -10.0  -3.0  -6.166667     3  0.0  0.0  0.000     3   1   1  1.0   \n",
      "...     ...   ...   ...        ...   ...  ...  ...    ...   ...  ..  ..  ...   \n",
      " 33.3     1  13.5  13.5  13.500000     1  0.0  0.0  0.000     1   7   7  7.0   \n",
      " 33.5     4  13.8  17.0  15.525000     4  0.0  5.5  1.375     4   7   8  7.5   \n",
      " 34.8     1  14.5  14.5  14.500000     1  0.0  0.0  0.000     1   8   8  8.0   \n",
      " 35.5     1  16.3  16.3  16.300000     1  0.0  0.0  0.000     1   8   8  8.0   \n",
      " 36.8     1  18.0  18.0  18.000000     1  0.0  0.0  0.000     1   8   8  8.0   \n",
      "\n",
      "         yr                           \n",
      "      count   min   max         mean  \n",
      "upper                                 \n",
      "-6.8      1  1987  1987  1987.000000  \n",
      "-4.3      1  1987  1987  1987.000000  \n",
      "-3.5      2  1987  1991  1989.000000  \n",
      "-2.5      2  1991  1991  1991.000000  \n",
      "-2.0      3  1987  1997  1990.333333  \n",
      "...     ...   ...   ...          ...  \n",
      " 33.3     1  1995  1995  1995.000000  \n",
      " 33.5     4  1989  2003  1996.250000  \n",
      " 34.8     1  2003  2003  2003.000000  \n",
      " 35.5     1  1990  1990  1990.000000  \n",
      " 36.8     1  2003  2003  2003.000000  \n",
      "\n",
      "[301 rows x 16 columns]\n"
     ]
    }
   ],
   "source": [
    "# Display average for all the Upper seasons\n",
    "df3 =df.groupby('upper').agg(['count','min','max','mean'])\n",
    "print(df3)"
   ]
  },
  {
   "cell_type": "code",
   "execution_count": 116,
   "id": "4d548091",
   "metadata": {},
   "outputs": [
    {
     "name": "stdout",
     "output_type": "stream",
     "text": [
      "      upper                     rain                 month                 \\\n",
      "      count   min   max   mean count  min  max  mean count min max   mean   \n",
      "lower                                                                       \n",
      "-11.5     1  -3.5  -3.5  -3.50     1  0.7  0.7  0.70     1   1   1   1.00   \n",
      "-11.3     1  -6.8  -6.8  -6.80     1  0.3  0.3  0.30     1   1   1   1.00   \n",
      "-10.5     1   0.5   0.5   0.50     1  0.0  0.0  0.00     1  12  12  12.00   \n",
      "-10.0     1  -2.0  -2.0  -2.00     1  0.0  0.0  0.00     1   1   1   1.00   \n",
      "-9.8      1   1.8   1.8   1.80     1  0.0  0.0  0.00     1   1   1   1.00   \n",
      "...     ...   ...   ...    ...   ...  ...  ...   ...   ...  ..  ..    ...   \n",
      " 18.5     2  26.3  32.0  29.15     2  0.0  0.7  0.35     2   8   8   8.00   \n",
      " 18.8     1  25.8  25.8  25.80     1  0.1  0.1  0.10     1   8   8   8.00   \n",
      " 19.0     4  23.5  30.5  26.45     4  0.0  0.8  0.20     4   7   8   7.75   \n",
      " 19.8     1  29.5  29.5  29.50     1  0.0  0.0  0.00     1   8   8   8.00   \n",
      " 26.5     1  29.0  29.0  29.00     1  0.0  0.0  0.00     1   8   8   8.00   \n",
      "\n",
      "         yr                       \n",
      "      count   min   max     mean  \n",
      "lower                             \n",
      "-11.5     1  1987  1987  1987.00  \n",
      "-11.3     1  1987  1987  1987.00  \n",
      "-10.5     1  1991  1991  1991.00  \n",
      "-10.0     1  1997  1997  1997.00  \n",
      "-9.8      1  1987  1987  1987.00  \n",
      "...     ...   ...   ...      ...  \n",
      " 18.5     2  1995  1997  1996.00  \n",
      " 18.8     1  1997  1997  1997.00  \n",
      " 19.0     4  1991  2004  1996.75  \n",
      " 19.8     1  1994  1994  1994.00  \n",
      " 26.5     1  1995  1995  1995.00  \n",
      "\n",
      "[236 rows x 16 columns]\n"
     ]
    }
   ],
   "source": [
    "# Display stats for all the Lower seasons\n",
    "df3 =df.groupby('lower').agg(['count','min','max','mean'])\n",
    "print(df3)"
   ]
  },
  {
   "cell_type": "code",
   "execution_count": 115,
   "id": "2456975e",
   "metadata": {},
   "outputs": [
    {
     "name": "stdout",
     "output_type": "stream",
     "text": [
      "     upper                        lower                        month          \\\n",
      "     count   min   max       mean count   min   max       mean count min max   \n",
      "rain                                                                           \n",
      "0.0   3619  -2.0  36.8  15.992125  3619 -10.5  26.5   5.721138  3619   1  12   \n",
      "0.1    255   0.5  30.0  13.236471   255  -6.0  18.8   4.962745   255   1  12   \n",
      "0.2    208   0.3  28.0  12.945673   208  -8.3  16.8   5.630769   208   1  12   \n",
      "0.3    173  -6.8  31.5  13.164740   173 -11.3  16.5   5.731792   173   1  12   \n",
      "0.4    116  -2.5  30.5  13.375862   116  -8.3  17.3   6.023276   116   1  12   \n",
      "...    ...   ...   ...        ...   ...   ...   ...        ...   ...  ..  ..   \n",
      "42.5     1  22.5  22.5  22.500000     1  14.8  14.8  14.800000     1   8   8   \n",
      "43.0     1  26.0  26.0  26.000000     1  13.5  13.5  13.500000     1   8   8   \n",
      "44.5     1  17.0  17.0  17.000000     1  11.5  11.5  11.500000     1   9   9   \n",
      "54.3     1  13.8  13.8  13.800000     1   7.5   7.5   7.500000     1  10  10   \n",
      "59.5     1  17.0  17.0  17.000000     1  11.5  11.5  11.500000     1  10  10   \n",
      "\n",
      "                   yr                           \n",
      "           mean count   min   max         mean  \n",
      "rain                                            \n",
      "0.0    6.537994  3619  1987  2005  1995.827300  \n",
      "0.1    6.827451   255  1987  2005  1996.635294  \n",
      "0.2    6.451923   208  1987  2005  1996.264423  \n",
      "0.3    6.381503   173  1987  2005  1996.531792  \n",
      "0.4    6.362069   116  1987  2005  1995.431034  \n",
      "...         ...   ...   ...   ...          ...  \n",
      "42.5   8.000000     1  1999  1999  1999.000000  \n",
      "43.0   8.000000     1  2002  2002  2002.000000  \n",
      "44.5   9.000000     1  1992  1992  1992.000000  \n",
      "54.3  10.000000     1  1987  1987  1987.000000  \n",
      "59.5  10.000000     1  1993  1993  1993.000000  \n",
      "\n",
      "[231 rows x 16 columns]\n"
     ]
    }
   ],
   "source": [
    "# Display stats for all the Lower seasons\n",
    "df3 =df.groupby('rain').agg(['count','min','max','mean'])\n",
    "print(df3)"
   ]
  },
  {
   "cell_type": "code",
   "execution_count": 117,
   "id": "e79b10a9",
   "metadata": {},
   "outputs": [
    {
     "name": "stdout",
     "output_type": "stream",
     "text": [
      "      upper                        lower                         rain       \\\n",
      "      count   min   max       mean count   min   max       mean count  min   \n",
      "month                                                                        \n",
      "1       589  -6.8  14.8   7.930051   589 -11.5  10.3   1.688964   589  0.0   \n",
      "2       537  -3.5  18.0   8.671136   537  -8.8  11.8   1.740037   537  0.0   \n",
      "3       590   1.5  21.3  11.200508   590  -7.3  12.0   3.150508   590  0.0   \n",
      "4       569   2.8  26.5  13.813708   569  -6.5  14.3   4.072935   569  0.0   \n",
      "5       590   8.8  30.5  17.880847   590  -4.3  15.0   6.906102   590  0.0   \n",
      "6       569   0.0  32.0  20.270475   569   0.0  17.3   9.686116   569  0.0   \n",
      "7       589  14.3  33.5  22.673854   589   3.8  19.0  11.898132   589  0.0   \n",
      "8       589  15.0  36.8  23.104924   589   3.5  26.5  11.766893   589  0.0   \n",
      "9       570   7.5  30.0  19.344211   570  -1.3  17.3   9.392982   570  0.0   \n",
      "10      589   8.3  24.5  15.125976   589  -6.0  15.8   6.829711   589  0.0   \n",
      "11      570   0.5  20.8  10.720702   570  -7.3  14.0   3.498947   570  0.0   \n",
      "12      589  -1.8  14.8   8.299830   589 -10.5  12.1   2.030051   589  0.0   \n",
      "\n",
      "                         yr                           \n",
      "        max      mean count   min   max         mean  \n",
      "month                                                 \n",
      "1      22.0  2.112564   589  1987  2005  1995.998302  \n",
      "2      18.7  1.701676   537  1987  2005  1996.000000  \n",
      "3      19.8  1.377458   590  1987  2005  1995.986441  \n",
      "4      30.3  1.883128   569  1987  2005  1996.014060  \n",
      "5      31.0  1.323390   590  1987  2005  1995.998305  \n",
      "6      27.1  1.487522   569  1987  2005  1996.001757  \n",
      "7      37.0  1.462988   589  1987  2005  1996.000000  \n",
      "8      43.0  1.811375   589  1987  2005  1995.994907  \n",
      "9      44.5  1.915614   570  1987  2005  1996.000000  \n",
      "10     59.5  2.661460   589  1987  2005  1996.000000  \n",
      "11     30.9  2.154211   570  1987  2005  1996.000000  \n",
      "12     32.5  2.089813   589  1987  2005  1996.000000  \n"
     ]
    }
   ],
   "source": [
    "# Display stats for all the monthg seasons\n",
    "df3 =df.groupby('month').agg(['count','min','max','mean'])\n",
    "print(df3)"
   ]
  },
  {
   "cell_type": "code",
   "execution_count": 103,
   "id": "a396ec67",
   "metadata": {},
   "outputs": [
    {
     "name": "stdout",
     "output_type": "stream",
     "text": [
      "     upper                       lower                        rain             \\\n",
      "     count  min   max       mean count   min   max      mean count  min   max   \n",
      "yr                                                                              \n",
      "1987   365 -6.8  28.8  13.270137   365 -11.5  17.3  5.645753   365  0.0  54.3   \n",
      "1988   366  1.8  27.8  13.791257   366  -5.3  17.2  6.208197   366  0.0  23.7   \n",
      "1989   365  2.3  33.5  15.549863   365  -7.3  18.0  6.527945   365  0.0  29.0   \n",
      "1990   365  1.0  35.5  15.629863   365  -5.0  16.8  6.614521   365  0.0  15.0   \n",
      "1991   365 -3.5  32.8  14.119452   365 -10.5  19.0  5.791507   365  0.0  30.3   \n",
      "1992   366 -1.8  30.5  14.616120   366  -8.5  17.5  6.271858   366  0.0  44.5   \n",
      "1993   366  0.5  27.8  14.309836   366  -6.5  17.0  5.975410   366  0.0  59.5   \n",
      "1994   365 -0.2  31.8  15.128767   365  -5.5  19.8  6.904658   365  0.0  38.8   \n",
      "1995   365  0.0  33.3  15.812603   365  -7.5  26.5  6.316438   365  0.0  32.5   \n",
      "1996   365  0.0  31.0  13.980822   365  -7.8  15.5  3.395616   365  0.0  22.0   \n",
      "1997   365 -2.0  30.8  15.639178   365 -10.0  19.0  6.016164   365  0.0  32.0   \n",
      "1998   366  0.0  30.5  14.970219   366  -6.0  16.5  6.289344   366  0.0  30.9   \n",
      "1999   364  0.3  31.8  15.637363   364  -8.3  17.0  6.200824   364  0.0  42.5   \n",
      "2000   366  0.3  30.5  14.940710   366  -7.5  17.0  6.329781   366  0.0  41.4   \n",
      "2001   365  1.3  32.0  14.908493   365  -7.3  17.5  5.830137   365  0.0  26.3   \n",
      "2002   365  3.0  31.8  15.475890   365  -9.0  16.5  6.584932   365  0.0  43.0   \n",
      "2003   365  2.0  36.8  16.032603   365  -7.3  18.0  5.742192   365  0.0  29.5   \n",
      "2004   366  3.5  30.5  15.251093   366  -5.8  19.0  6.581694   366  0.0  24.5   \n",
      "2005   365  1.5  30.3  15.060000   365  -6.3  17.3  6.295068   365  0.0  22.0   \n",
      "\n",
      "               month                    \n",
      "          mean count min max      mean  \n",
      "yr                                      \n",
      "1987  1.984384   365   1  12  6.526027  \n",
      "1988  1.666393   366   1  12  6.510929  \n",
      "1989  1.760548   365   1  12  6.526027  \n",
      "1990  1.346575   365   1  12  6.526027  \n",
      "1991  1.467397   365   1  12  6.526027  \n",
      "1992  1.860109   366   1  12  6.513661  \n",
      "1993  2.039071   366   1  12  6.530055  \n",
      "1994  2.095342   365   1  12  6.526027  \n",
      "1995  1.708767   365   1  12  6.523288  \n",
      "1996  1.389041   365   1  12  6.509589  \n",
      "1997  1.473151   365   1  12  6.526027  \n",
      "1998  2.015301   366   1  12  6.510929  \n",
      "1999  2.131868   364   1  12  6.541209  \n",
      "2000  2.518852   366   1  12  6.513661  \n",
      "2001  2.251233   365   1  12  6.526027  \n",
      "2002  2.470685   365   1  12  6.526027  \n",
      "2003  1.513425   365   1  12  6.526027  \n",
      "2004  1.678415   366   1  12  6.513661  \n",
      "2005  1.442466   365   1  12  6.526027  \n"
     ]
    }
   ],
   "source": [
    "# Display stats for all the month seasons\n",
    "df3 =df.groupby('yr').agg(['count','min','max','mean'])\n",
    "print(df3)"
   ]
  },
  {
   "cell_type": "markdown",
   "id": "cb74e161",
   "metadata": {},
   "source": [
    "### Checking for outliers in the dataset using the boxplot"
   ]
  },
  {
   "cell_type": "code",
   "execution_count": 80,
   "id": "a9fa7762",
   "metadata": {},
   "outputs": [
    {
     "name": "stderr",
     "output_type": "stream",
     "text": [
      "C:\\Users\\Arulmani Padayachee\\anaconda3\\lib\\site-packages\\seaborn\\_decorators.py:36: FutureWarning: Pass the following variable as a keyword arg: x. From version 0.12, the only valid positional argument will be `data`, and passing other arguments without an explicit keyword will result in an error or misinterpretation.\n",
      "  warnings.warn(\n"
     ]
    },
    {
     "data": {
      "text/plain": [
       "<AxesSubplot:xlabel='upper'>"
      ]
     },
     "execution_count": 80,
     "metadata": {},
     "output_type": "execute_result"
    },
    {
     "data": {
      "image/png": "[encoded data removed]",
      "text/plain": [
       "<Figure size 432x288 with 1 Axes>"
      ]
     },
     "metadata": {
      "needs_background": "light"
     },
     "output_type": "display_data"
    }
   ],
   "source": [
    "import seaborn as sns\n",
    "sns.boxplot(df[\"upper\"])"
   ]
  },
  {
   "cell_type": "code",
   "execution_count": 81,
   "id": "e9e60c95",
   "metadata": {},
   "outputs": [
    {
     "name": "stderr",
     "output_type": "stream",
     "text": [
      "C:\\Users\\Arulmani Padayachee\\anaconda3\\lib\\site-packages\\seaborn\\_decorators.py:36: FutureWarning: Pass the following variable as a keyword arg: x. From version 0.12, the only valid positional argument will be `data`, and passing other arguments without an explicit keyword will result in an error or misinterpretation.\n",
      "  warnings.warn(\n"
     ]
    },
    {
     "data": {
      "text/plain": [
       "<AxesSubplot:xlabel='lower'>"
      ]
     },
     "execution_count": 81,
     "metadata": {},
     "output_type": "execute_result"
    },
    {
     "data": {
      "image/png": "[encoded data removed]",
      "text/plain": [
       "<Figure size 432x288 with 1 Axes>"
      ]
     },
     "metadata": {
      "needs_background": "light"
     },
     "output_type": "display_data"
    }
   ],
   "source": [
    "sns.boxplot(df[\"lower\"])"
   ]
  },
  {
   "cell_type": "code",
   "execution_count": 82,
   "id": "2928304b",
   "metadata": {},
   "outputs": [
    {
     "name": "stderr",
     "output_type": "stream",
     "text": [
      "C:\\Users\\Arulmani Padayachee\\anaconda3\\lib\\site-packages\\seaborn\\_decorators.py:36: FutureWarning: Pass the following variable as a keyword arg: x. From version 0.12, the only valid positional argument will be `data`, and passing other arguments without an explicit keyword will result in an error or misinterpretation.\n",
      "  warnings.warn(\n"
     ]
    },
    {
     "data": {
      "text/plain": [
       "<AxesSubplot:xlabel='rain'>"
      ]
     },
     "execution_count": 82,
     "metadata": {},
     "output_type": "execute_result"
    },
    {
     "data": {
      "image/png": "[encoded data removed]",
      "text/plain": [
       "<Figure size 432x288 with 1 Axes>"
      ]
     },
     "metadata": {
      "needs_background": "light"
     },
     "output_type": "display_data"
    }
   ],
   "source": [
    "sns.boxplot(df[\"rain\"])"
   ]
  },
  {
   "cell_type": "code",
   "execution_count": 83,
   "id": "c21ba0a5",
   "metadata": {},
   "outputs": [
    {
     "name": "stderr",
     "output_type": "stream",
     "text": [
      "C:\\Users\\Arulmani Padayachee\\anaconda3\\lib\\site-packages\\seaborn\\_decorators.py:36: FutureWarning: Pass the following variable as a keyword arg: x. From version 0.12, the only valid positional argument will be `data`, and passing other arguments without an explicit keyword will result in an error or misinterpretation.\n",
      "  warnings.warn(\n"
     ]
    },
    {
     "data": {
      "text/plain": [
       "<AxesSubplot:xlabel='month'>"
      ]
     },
     "execution_count": 83,
     "metadata": {},
     "output_type": "execute_result"
    },
    {
     "data": {
      "image/png": "[encoded data removed]",
      "text/plain": [
       "<Figure size 432x288 with 1 Axes>"
      ]
     },
     "metadata": {
      "needs_background": "light"
     },
     "output_type": "display_data"
    }
   ],
   "source": [
    "sns.boxplot(df[\"month\"])"
   ]
  },
  {
   "cell_type": "code",
   "execution_count": 84,
   "id": "3f63d707",
   "metadata": {},
   "outputs": [
    {
     "name": "stderr",
     "output_type": "stream",
     "text": [
      "C:\\Users\\Arulmani Padayachee\\anaconda3\\lib\\site-packages\\seaborn\\_decorators.py:36: FutureWarning: Pass the following variable as a keyword arg: x. From version 0.12, the only valid positional argument will be `data`, and passing other arguments without an explicit keyword will result in an error or misinterpretation.\n",
      "  warnings.warn(\n"
     ]
    },
    {
     "data": {
      "text/plain": [
       "<AxesSubplot:xlabel='yr'>"
      ]
     },
     "execution_count": 84,
     "metadata": {},
     "output_type": "execute_result"
    },
    {
     "data": {
      "image/png": "[encoded data removed]",
      "text/plain": [
       "<Figure size 432x288 with 1 Axes>"
      ]
     },
     "metadata": {
      "needs_background": "light"
     },
     "output_type": "display_data"
    }
   ],
   "source": [
    "sns.boxplot(df[\"yr\"])"
   ]
  },
  {
   "cell_type": "markdown",
   "id": "2e672502",
   "metadata": {},
   "source": [
    "### Fix all the outliers"
   ]
  },
  {
   "cell_type": "code",
   "execution_count": 85,
   "id": "4bbb9441",
   "metadata": {},
   "outputs": [
    {
     "data": {
      "text/plain": [
       "31.0"
      ]
     },
     "execution_count": 85,
     "metadata": {},
     "output_type": "execute_result"
    }
   ],
   "source": [
    "# Choose the maximuim quantile to fill in the outliers\n",
    "# upper\n",
    "\n",
    "upper_rate = df[\"upper\"].quantile(0.995)\n",
    "upper_rate"
   ]
  },
  {
   "cell_type": "code",
   "execution_count": 86,
   "id": "b8c54a8a",
   "metadata": {},
   "outputs": [
    {
     "data": {
      "text/html": [
       "<div>\n",
       "<style scoped>\n",
       "    .dataframe tbody tr th:only-of-type {\n",
       "        vertical-align: middle;\n",
       "    }\n",
       "\n",
       "    .dataframe tbody tr th {\n",
       "        vertical-align: top;\n",
       "    }\n",
       "\n",
       "    .dataframe thead th {\n",
       "        text-align: right;\n",
       "    }\n",
       "</style>\n",
       "<table border=\"1\" class=\"dataframe\">\n",
       "  <thead>\n",
       "    <tr style=\"text-align: right;\">\n",
       "      <th></th>\n",
       "      <th>upper</th>\n",
       "      <th>lower</th>\n",
       "      <th>rain</th>\n",
       "      <th>month</th>\n",
       "      <th>yr</th>\n",
       "    </tr>\n",
       "  </thead>\n",
       "  <tbody>\n",
       "    <tr>\n",
       "      <th>934</th>\n",
       "      <td>33.5</td>\n",
       "      <td>17.0</td>\n",
       "      <td>5.5</td>\n",
       "      <td>7</td>\n",
       "      <td>1989</td>\n",
       "    </tr>\n",
       "    <tr>\n",
       "      <th>935</th>\n",
       "      <td>31.3</td>\n",
       "      <td>15.8</td>\n",
       "      <td>0.0</td>\n",
       "      <td>7</td>\n",
       "      <td>1989</td>\n",
       "    </tr>\n",
       "    <tr>\n",
       "      <th>1297</th>\n",
       "      <td>31.3</td>\n",
       "      <td>12.3</td>\n",
       "      <td>0.0</td>\n",
       "      <td>7</td>\n",
       "      <td>1990</td>\n",
       "    </tr>\n",
       "    <tr>\n",
       "      <th>1298</th>\n",
       "      <td>32.0</td>\n",
       "      <td>14.3</td>\n",
       "      <td>0.0</td>\n",
       "      <td>7</td>\n",
       "      <td>1990</td>\n",
       "    </tr>\n",
       "    <tr>\n",
       "      <th>1309</th>\n",
       "      <td>31.3</td>\n",
       "      <td>14.3</td>\n",
       "      <td>0.0</td>\n",
       "      <td>8</td>\n",
       "      <td>1990</td>\n",
       "    </tr>\n",
       "    <tr>\n",
       "      <th>1310</th>\n",
       "      <td>33.5</td>\n",
       "      <td>13.8</td>\n",
       "      <td>0.0</td>\n",
       "      <td>8</td>\n",
       "      <td>1990</td>\n",
       "    </tr>\n",
       "    <tr>\n",
       "      <th>1311</th>\n",
       "      <td>35.5</td>\n",
       "      <td>16.3</td>\n",
       "      <td>0.0</td>\n",
       "      <td>8</td>\n",
       "      <td>1990</td>\n",
       "    </tr>\n",
       "    <tr>\n",
       "      <th>1312</th>\n",
       "      <td>33.0</td>\n",
       "      <td>12.8</td>\n",
       "      <td>0.0</td>\n",
       "      <td>8</td>\n",
       "      <td>1990</td>\n",
       "    </tr>\n",
       "    <tr>\n",
       "      <th>1688</th>\n",
       "      <td>32.8</td>\n",
       "      <td>14.5</td>\n",
       "      <td>0.0</td>\n",
       "      <td>8</td>\n",
       "      <td>1991</td>\n",
       "    </tr>\n",
       "    <tr>\n",
       "      <th>2751</th>\n",
       "      <td>31.5</td>\n",
       "      <td>16.0</td>\n",
       "      <td>0.3</td>\n",
       "      <td>7</td>\n",
       "      <td>1994</td>\n",
       "    </tr>\n",
       "    <tr>\n",
       "      <th>2763</th>\n",
       "      <td>31.8</td>\n",
       "      <td>16.8</td>\n",
       "      <td>0.0</td>\n",
       "      <td>7</td>\n",
       "      <td>1994</td>\n",
       "    </tr>\n",
       "    <tr>\n",
       "      <th>3104</th>\n",
       "      <td>33.3</td>\n",
       "      <td>13.5</td>\n",
       "      <td>0.0</td>\n",
       "      <td>7</td>\n",
       "      <td>1995</td>\n",
       "    </tr>\n",
       "    <tr>\n",
       "      <th>3114</th>\n",
       "      <td>32.5</td>\n",
       "      <td>17.5</td>\n",
       "      <td>0.0</td>\n",
       "      <td>7</td>\n",
       "      <td>1995</td>\n",
       "    </tr>\n",
       "    <tr>\n",
       "      <th>3124</th>\n",
       "      <td>31.5</td>\n",
       "      <td>16.0</td>\n",
       "      <td>0.0</td>\n",
       "      <td>7</td>\n",
       "      <td>1995</td>\n",
       "    </tr>\n",
       "    <tr>\n",
       "      <th>3134</th>\n",
       "      <td>31.5</td>\n",
       "      <td>14.8</td>\n",
       "      <td>0.0</td>\n",
       "      <td>7</td>\n",
       "      <td>1995</td>\n",
       "    </tr>\n",
       "    <tr>\n",
       "      <th>3135</th>\n",
       "      <td>32.3</td>\n",
       "      <td>14.3</td>\n",
       "      <td>0.0</td>\n",
       "      <td>8</td>\n",
       "      <td>1995</td>\n",
       "    </tr>\n",
       "    <tr>\n",
       "      <th>3136</th>\n",
       "      <td>32.0</td>\n",
       "      <td>18.5</td>\n",
       "      <td>0.0</td>\n",
       "      <td>8</td>\n",
       "      <td>1995</td>\n",
       "    </tr>\n",
       "    <tr>\n",
       "      <th>3137</th>\n",
       "      <td>32.8</td>\n",
       "      <td>16.5</td>\n",
       "      <td>0.0</td>\n",
       "      <td>8</td>\n",
       "      <td>1995</td>\n",
       "    </tr>\n",
       "    <tr>\n",
       "      <th>3138</th>\n",
       "      <td>32.0</td>\n",
       "      <td>14.0</td>\n",
       "      <td>0.0</td>\n",
       "      <td>8</td>\n",
       "      <td>1995</td>\n",
       "    </tr>\n",
       "    <tr>\n",
       "      <th>3146</th>\n",
       "      <td>32.5</td>\n",
       "      <td>12.5</td>\n",
       "      <td>0.0</td>\n",
       "      <td>8</td>\n",
       "      <td>1995</td>\n",
       "    </tr>\n",
       "    <tr>\n",
       "      <th>3151</th>\n",
       "      <td>31.2</td>\n",
       "      <td>12.2</td>\n",
       "      <td>0.0</td>\n",
       "      <td>8</td>\n",
       "      <td>1995</td>\n",
       "    </tr>\n",
       "    <tr>\n",
       "      <th>4596</th>\n",
       "      <td>31.8</td>\n",
       "      <td>12.8</td>\n",
       "      <td>0.0</td>\n",
       "      <td>8</td>\n",
       "      <td>1999</td>\n",
       "    </tr>\n",
       "    <tr>\n",
       "      <th>4597</th>\n",
       "      <td>31.5</td>\n",
       "      <td>16.8</td>\n",
       "      <td>2.6</td>\n",
       "      <td>8</td>\n",
       "      <td>1999</td>\n",
       "    </tr>\n",
       "    <tr>\n",
       "      <th>5291</th>\n",
       "      <td>32.0</td>\n",
       "      <td>15.8</td>\n",
       "      <td>0.0</td>\n",
       "      <td>6</td>\n",
       "      <td>2001</td>\n",
       "    </tr>\n",
       "    <tr>\n",
       "      <th>5351</th>\n",
       "      <td>31.3</td>\n",
       "      <td>17.0</td>\n",
       "      <td>0.0</td>\n",
       "      <td>8</td>\n",
       "      <td>2001</td>\n",
       "    </tr>\n",
       "    <tr>\n",
       "      <th>5689</th>\n",
       "      <td>31.8</td>\n",
       "      <td>15.5</td>\n",
       "      <td>0.0</td>\n",
       "      <td>7</td>\n",
       "      <td>2002</td>\n",
       "    </tr>\n",
       "    <tr>\n",
       "      <th>6040</th>\n",
       "      <td>33.5</td>\n",
       "      <td>15.0</td>\n",
       "      <td>0.0</td>\n",
       "      <td>7</td>\n",
       "      <td>2003</td>\n",
       "    </tr>\n",
       "    <tr>\n",
       "      <th>6060</th>\n",
       "      <td>32.0</td>\n",
       "      <td>16.8</td>\n",
       "      <td>0.0</td>\n",
       "      <td>8</td>\n",
       "      <td>2003</td>\n",
       "    </tr>\n",
       "    <tr>\n",
       "      <th>6061</th>\n",
       "      <td>32.5</td>\n",
       "      <td>17.5</td>\n",
       "      <td>0.0</td>\n",
       "      <td>8</td>\n",
       "      <td>2003</td>\n",
       "    </tr>\n",
       "    <tr>\n",
       "      <th>6065</th>\n",
       "      <td>34.8</td>\n",
       "      <td>14.5</td>\n",
       "      <td>0.0</td>\n",
       "      <td>8</td>\n",
       "      <td>2003</td>\n",
       "    </tr>\n",
       "    <tr>\n",
       "      <th>6066</th>\n",
       "      <td>36.8</td>\n",
       "      <td>18.0</td>\n",
       "      <td>0.0</td>\n",
       "      <td>8</td>\n",
       "      <td>2003</td>\n",
       "    </tr>\n",
       "    <tr>\n",
       "      <th>6067</th>\n",
       "      <td>33.5</td>\n",
       "      <td>16.3</td>\n",
       "      <td>0.0</td>\n",
       "      <td>8</td>\n",
       "      <td>2003</td>\n",
       "    </tr>\n",
       "  </tbody>\n",
       "</table>\n",
       "</div>"
      ],
      "text/plain": [
       "      upper  lower  rain  month    yr\n",
       "934    33.5   17.0   5.5      7  1989\n",
       "935    31.3   15.8   0.0      7  1989\n",
       "1297   31.3   12.3   0.0      7  1990\n",
       "1298   32.0   14.3   0.0      7  1990\n",
       "1309   31.3   14.3   0.0      8  1990\n",
       "1310   33.5   13.8   0.0      8  1990\n",
       "1311   35.5   16.3   0.0      8  1990\n",
       "1312   33.0   12.8   0.0      8  1990\n",
       "1688   32.8   14.5   0.0      8  1991\n",
       "2751   31.5   16.0   0.3      7  1994\n",
       "2763   31.8   16.8   0.0      7  1994\n",
       "3104   33.3   13.5   0.0      7  1995\n",
       "3114   32.5   17.5   0.0      7  1995\n",
       "3124   31.5   16.0   0.0      7  1995\n",
       "3134   31.5   14.8   0.0      7  1995\n",
       "3135   32.3   14.3   0.0      8  1995\n",
       "3136   32.0   18.5   0.0      8  1995\n",
       "3137   32.8   16.5   0.0      8  1995\n",
       "3138   32.0   14.0   0.0      8  1995\n",
       "3146   32.5   12.5   0.0      8  1995\n",
       "3151   31.2   12.2   0.0      8  1995\n",
       "4596   31.8   12.8   0.0      8  1999\n",
       "4597   31.5   16.8   2.6      8  1999\n",
       "5291   32.0   15.8   0.0      6  2001\n",
       "5351   31.3   17.0   0.0      8  2001\n",
       "5689   31.8   15.5   0.0      7  2002\n",
       "6040   33.5   15.0   0.0      7  2003\n",
       "6060   32.0   16.8   0.0      8  2003\n",
       "6061   32.5   17.5   0.0      8  2003\n",
       "6065   34.8   14.5   0.0      8  2003\n",
       "6066   36.8   18.0   0.0      8  2003\n",
       "6067   33.5   16.3   0.0      8  2003"
      ]
     },
     "execution_count": 86,
     "metadata": {},
     "output_type": "execute_result"
    }
   ],
   "source": [
    "df[df[\"upper\"]>upper_rate]"
   ]
  },
  {
   "cell_type": "code",
   "execution_count": 87,
   "id": "a1f6247a",
   "metadata": {},
   "outputs": [
    {
     "data": {
      "text/plain": [
       "17.0"
      ]
     },
     "execution_count": 87,
     "metadata": {},
     "output_type": "execute_result"
    }
   ],
   "source": [
    "# Choose the maximuim quantile to fill in the outliers\n",
    "# Lower\n",
    "\n",
    "lower_rate = df[\"lower\"].quantile(0.995)\n",
    "lower_rate"
   ]
  },
  {
   "cell_type": "code",
   "execution_count": 89,
   "id": "8d9390c5",
   "metadata": {},
   "outputs": [
    {
     "data": {
      "text/html": [
       "<div>\n",
       "<style scoped>\n",
       "    .dataframe tbody tr th:only-of-type {\n",
       "        vertical-align: middle;\n",
       "    }\n",
       "\n",
       "    .dataframe tbody tr th {\n",
       "        vertical-align: top;\n",
       "    }\n",
       "\n",
       "    .dataframe thead th {\n",
       "        text-align: right;\n",
       "    }\n",
       "</style>\n",
       "<table border=\"1\" class=\"dataframe\">\n",
       "  <thead>\n",
       "    <tr style=\"text-align: right;\">\n",
       "      <th></th>\n",
       "      <th>upper</th>\n",
       "      <th>lower</th>\n",
       "      <th>rain</th>\n",
       "      <th>month</th>\n",
       "      <th>yr</th>\n",
       "    </tr>\n",
       "  </thead>\n",
       "  <tbody>\n",
       "    <tr>\n",
       "      <th>179</th>\n",
       "      <td>23.8</td>\n",
       "      <td>17.3</td>\n",
       "      <td>0.0</td>\n",
       "      <td>6</td>\n",
       "      <td>1987</td>\n",
       "    </tr>\n",
       "    <tr>\n",
       "      <th>568</th>\n",
       "      <td>17.8</td>\n",
       "      <td>17.2</td>\n",
       "      <td>4.8</td>\n",
       "      <td>7</td>\n",
       "      <td>1988</td>\n",
       "    </tr>\n",
       "    <tr>\n",
       "      <th>918</th>\n",
       "      <td>30.3</td>\n",
       "      <td>17.8</td>\n",
       "      <td>14.0</td>\n",
       "      <td>7</td>\n",
       "      <td>1989</td>\n",
       "    </tr>\n",
       "    <tr>\n",
       "      <th>933</th>\n",
       "      <td>31.0</td>\n",
       "      <td>18.0</td>\n",
       "      <td>0.0</td>\n",
       "      <td>7</td>\n",
       "      <td>1989</td>\n",
       "    </tr>\n",
       "    <tr>\n",
       "      <th>990</th>\n",
       "      <td>20.8</td>\n",
       "      <td>17.3</td>\n",
       "      <td>0.8</td>\n",
       "      <td>9</td>\n",
       "      <td>1989</td>\n",
       "    </tr>\n",
       "    <tr>\n",
       "      <th>1682</th>\n",
       "      <td>24.0</td>\n",
       "      <td>17.3</td>\n",
       "      <td>0.0</td>\n",
       "      <td>8</td>\n",
       "      <td>1991</td>\n",
       "    </tr>\n",
       "    <tr>\n",
       "      <th>1699</th>\n",
       "      <td>26.3</td>\n",
       "      <td>19.0</td>\n",
       "      <td>0.0</td>\n",
       "      <td>8</td>\n",
       "      <td>1991</td>\n",
       "    </tr>\n",
       "    <tr>\n",
       "      <th>2046</th>\n",
       "      <td>27.3</td>\n",
       "      <td>17.3</td>\n",
       "      <td>0.4</td>\n",
       "      <td>8</td>\n",
       "      <td>1992</td>\n",
       "    </tr>\n",
       "    <tr>\n",
       "      <th>2047</th>\n",
       "      <td>25.8</td>\n",
       "      <td>17.5</td>\n",
       "      <td>9.1</td>\n",
       "      <td>8</td>\n",
       "      <td>1992</td>\n",
       "    </tr>\n",
       "    <tr>\n",
       "      <th>2765</th>\n",
       "      <td>22.5</td>\n",
       "      <td>18.0</td>\n",
       "      <td>0.0</td>\n",
       "      <td>7</td>\n",
       "      <td>1994</td>\n",
       "    </tr>\n",
       "    <tr>\n",
       "      <th>2769</th>\n",
       "      <td>30.5</td>\n",
       "      <td>18.3</td>\n",
       "      <td>0.0</td>\n",
       "      <td>7</td>\n",
       "      <td>1994</td>\n",
       "    </tr>\n",
       "    <tr>\n",
       "      <th>2773</th>\n",
       "      <td>29.5</td>\n",
       "      <td>19.8</td>\n",
       "      <td>0.0</td>\n",
       "      <td>8</td>\n",
       "      <td>1994</td>\n",
       "    </tr>\n",
       "    <tr>\n",
       "      <th>3114</th>\n",
       "      <td>32.5</td>\n",
       "      <td>17.5</td>\n",
       "      <td>0.0</td>\n",
       "      <td>7</td>\n",
       "      <td>1995</td>\n",
       "    </tr>\n",
       "    <tr>\n",
       "      <th>3122</th>\n",
       "      <td>25.5</td>\n",
       "      <td>19.0</td>\n",
       "      <td>0.0</td>\n",
       "      <td>7</td>\n",
       "      <td>1995</td>\n",
       "    </tr>\n",
       "    <tr>\n",
       "      <th>3136</th>\n",
       "      <td>32.0</td>\n",
       "      <td>18.5</td>\n",
       "      <td>0.0</td>\n",
       "      <td>8</td>\n",
       "      <td>1995</td>\n",
       "    </tr>\n",
       "    <tr>\n",
       "      <th>3145</th>\n",
       "      <td>29.0</td>\n",
       "      <td>26.5</td>\n",
       "      <td>0.0</td>\n",
       "      <td>8</td>\n",
       "      <td>1995</td>\n",
       "    </tr>\n",
       "    <tr>\n",
       "      <th>3875</th>\n",
       "      <td>30.8</td>\n",
       "      <td>18.0</td>\n",
       "      <td>0.0</td>\n",
       "      <td>8</td>\n",
       "      <td>1997</td>\n",
       "    </tr>\n",
       "    <tr>\n",
       "      <th>3877</th>\n",
       "      <td>27.8</td>\n",
       "      <td>18.3</td>\n",
       "      <td>1.1</td>\n",
       "      <td>8</td>\n",
       "      <td>1997</td>\n",
       "    </tr>\n",
       "    <tr>\n",
       "      <th>3886</th>\n",
       "      <td>25.8</td>\n",
       "      <td>18.8</td>\n",
       "      <td>0.1</td>\n",
       "      <td>8</td>\n",
       "      <td>1997</td>\n",
       "    </tr>\n",
       "    <tr>\n",
       "      <th>3887</th>\n",
       "      <td>23.5</td>\n",
       "      <td>19.0</td>\n",
       "      <td>0.0</td>\n",
       "      <td>8</td>\n",
       "      <td>1997</td>\n",
       "    </tr>\n",
       "    <tr>\n",
       "      <th>3888</th>\n",
       "      <td>26.3</td>\n",
       "      <td>18.5</td>\n",
       "      <td>0.7</td>\n",
       "      <td>8</td>\n",
       "      <td>1997</td>\n",
       "    </tr>\n",
       "    <tr>\n",
       "      <th>5300</th>\n",
       "      <td>28.8</td>\n",
       "      <td>17.5</td>\n",
       "      <td>0.8</td>\n",
       "      <td>7</td>\n",
       "      <td>2001</td>\n",
       "    </tr>\n",
       "    <tr>\n",
       "      <th>6061</th>\n",
       "      <td>32.5</td>\n",
       "      <td>17.5</td>\n",
       "      <td>0.0</td>\n",
       "      <td>8</td>\n",
       "      <td>2003</td>\n",
       "    </tr>\n",
       "    <tr>\n",
       "      <th>6066</th>\n",
       "      <td>36.8</td>\n",
       "      <td>18.0</td>\n",
       "      <td>0.0</td>\n",
       "      <td>8</td>\n",
       "      <td>2003</td>\n",
       "    </tr>\n",
       "    <tr>\n",
       "      <th>6079</th>\n",
       "      <td>27.5</td>\n",
       "      <td>18.0</td>\n",
       "      <td>0.0</td>\n",
       "      <td>8</td>\n",
       "      <td>2003</td>\n",
       "    </tr>\n",
       "    <tr>\n",
       "      <th>6430</th>\n",
       "      <td>30.5</td>\n",
       "      <td>19.0</td>\n",
       "      <td>0.8</td>\n",
       "      <td>8</td>\n",
       "      <td>2004</td>\n",
       "    </tr>\n",
       "    <tr>\n",
       "      <th>6745</th>\n",
       "      <td>30.3</td>\n",
       "      <td>17.3</td>\n",
       "      <td>0.0</td>\n",
       "      <td>6</td>\n",
       "      <td>2005</td>\n",
       "    </tr>\n",
       "  </tbody>\n",
       "</table>\n",
       "</div>"
      ],
      "text/plain": [
       "      upper  lower  rain  month    yr\n",
       "179    23.8   17.3   0.0      6  1987\n",
       "568    17.8   17.2   4.8      7  1988\n",
       "918    30.3   17.8  14.0      7  1989\n",
       "933    31.0   18.0   0.0      7  1989\n",
       "990    20.8   17.3   0.8      9  1989\n",
       "1682   24.0   17.3   0.0      8  1991\n",
       "1699   26.3   19.0   0.0      8  1991\n",
       "2046   27.3   17.3   0.4      8  1992\n",
       "2047   25.8   17.5   9.1      8  1992\n",
       "2765   22.5   18.0   0.0      7  1994\n",
       "2769   30.5   18.3   0.0      7  1994\n",
       "2773   29.5   19.8   0.0      8  1994\n",
       "3114   32.5   17.5   0.0      7  1995\n",
       "3122   25.5   19.0   0.0      7  1995\n",
       "3136   32.0   18.5   0.0      8  1995\n",
       "3145   29.0   26.5   0.0      8  1995\n",
       "3875   30.8   18.0   0.0      8  1997\n",
       "3877   27.8   18.3   1.1      8  1997\n",
       "3886   25.8   18.8   0.1      8  1997\n",
       "3887   23.5   19.0   0.0      8  1997\n",
       "3888   26.3   18.5   0.7      8  1997\n",
       "5300   28.8   17.5   0.8      7  2001\n",
       "6061   32.5   17.5   0.0      8  2003\n",
       "6066   36.8   18.0   0.0      8  2003\n",
       "6079   27.5   18.0   0.0      8  2003\n",
       "6430   30.5   19.0   0.8      8  2004\n",
       "6745   30.3   17.3   0.0      6  2005"
      ]
     },
     "execution_count": 89,
     "metadata": {},
     "output_type": "execute_result"
    }
   ],
   "source": [
    "df[df[\"lower\"]>lower_rate]"
   ]
  },
  {
   "cell_type": "code",
   "execution_count": 90,
   "id": "201ab0a8",
   "metadata": {},
   "outputs": [
    {
     "data": {
      "text/plain": [
       "17.0"
      ]
     },
     "execution_count": 90,
     "metadata": {},
     "output_type": "execute_result"
    }
   ],
   "source": [
    "# Choose the maximuim quantile to fill in the outliers\n",
    "# Rain\n",
    "\n",
    "rain_fall = df[\"rain\"].quantile(0.995)\n",
    "rain_fall"
   ]
  },
  {
   "cell_type": "code",
   "execution_count": 91,
   "id": "0596ea6f",
   "metadata": {},
   "outputs": [
    {
     "data": {
      "text/html": [
       "<div>\n",
       "<style scoped>\n",
       "    .dataframe tbody tr th:only-of-type {\n",
       "        vertical-align: middle;\n",
       "    }\n",
       "\n",
       "    .dataframe tbody tr th {\n",
       "        vertical-align: top;\n",
       "    }\n",
       "\n",
       "    .dataframe thead th {\n",
       "        text-align: right;\n",
       "    }\n",
       "</style>\n",
       "<table border=\"1\" class=\"dataframe\">\n",
       "  <thead>\n",
       "    <tr style=\"text-align: right;\">\n",
       "      <th></th>\n",
       "      <th>upper</th>\n",
       "      <th>lower</th>\n",
       "      <th>rain</th>\n",
       "      <th>month</th>\n",
       "      <th>yr</th>\n",
       "    </tr>\n",
       "  </thead>\n",
       "  <tbody>\n",
       "    <tr>\n",
       "      <th>159</th>\n",
       "      <td>15.3</td>\n",
       "      <td>9.0</td>\n",
       "      <td>20.8</td>\n",
       "      <td>6</td>\n",
       "      <td>1987</td>\n",
       "    </tr>\n",
       "    <tr>\n",
       "      <th>234</th>\n",
       "      <td>23.3</td>\n",
       "      <td>10.3</td>\n",
       "      <td>22.0</td>\n",
       "      <td>8</td>\n",
       "      <td>1987</td>\n",
       "    </tr>\n",
       "    <tr>\n",
       "      <th>280</th>\n",
       "      <td>15.3</td>\n",
       "      <td>8.8</td>\n",
       "      <td>18.8</td>\n",
       "      <td>10</td>\n",
       "      <td>1987</td>\n",
       "    </tr>\n",
       "    <tr>\n",
       "      <th>282</th>\n",
       "      <td>13.8</td>\n",
       "      <td>7.5</td>\n",
       "      <td>54.3</td>\n",
       "      <td>10</td>\n",
       "      <td>1987</td>\n",
       "    </tr>\n",
       "    <tr>\n",
       "      <th>288</th>\n",
       "      <td>17.3</td>\n",
       "      <td>7.8</td>\n",
       "      <td>19.5</td>\n",
       "      <td>10</td>\n",
       "      <td>1987</td>\n",
       "    </tr>\n",
       "    <tr>\n",
       "      <th>...</th>\n",
       "      <td>...</td>\n",
       "      <td>...</td>\n",
       "      <td>...</td>\n",
       "      <td>...</td>\n",
       "      <td>...</td>\n",
       "    </tr>\n",
       "    <tr>\n",
       "      <th>6787</th>\n",
       "      <td>19.5</td>\n",
       "      <td>12.8</td>\n",
       "      <td>18.7</td>\n",
       "      <td>8</td>\n",
       "      <td>2005</td>\n",
       "    </tr>\n",
       "    <tr>\n",
       "      <th>6822</th>\n",
       "      <td>28.0</td>\n",
       "      <td>17.0</td>\n",
       "      <td>19.5</td>\n",
       "      <td>9</td>\n",
       "      <td>2005</td>\n",
       "    </tr>\n",
       "    <tr>\n",
       "      <th>6860</th>\n",
       "      <td>18.8</td>\n",
       "      <td>11.0</td>\n",
       "      <td>17.8</td>\n",
       "      <td>10</td>\n",
       "      <td>2005</td>\n",
       "    </tr>\n",
       "    <tr>\n",
       "      <th>6881</th>\n",
       "      <td>17.0</td>\n",
       "      <td>12.5</td>\n",
       "      <td>17.6</td>\n",
       "      <td>11</td>\n",
       "      <td>2005</td>\n",
       "    </tr>\n",
       "    <tr>\n",
       "      <th>6910</th>\n",
       "      <td>9.3</td>\n",
       "      <td>5.8</td>\n",
       "      <td>22.0</td>\n",
       "      <td>12</td>\n",
       "      <td>2005</td>\n",
       "    </tr>\n",
       "  </tbody>\n",
       "</table>\n",
       "<p>102 rows × 5 columns</p>\n",
       "</div>"
      ],
      "text/plain": [
       "      upper  lower  rain  month    yr\n",
       "159    15.3    9.0  20.8      6  1987\n",
       "234    23.3   10.3  22.0      8  1987\n",
       "280    15.3    8.8  18.8     10  1987\n",
       "282    13.8    7.5  54.3     10  1987\n",
       "288    17.3    7.8  19.5     10  1987\n",
       "...     ...    ...   ...    ...   ...\n",
       "6787   19.5   12.8  18.7      8  2005\n",
       "6822   28.0   17.0  19.5      9  2005\n",
       "6860   18.8   11.0  17.8     10  2005\n",
       "6881   17.0   12.5  17.6     11  2005\n",
       "6910    9.3    5.8  22.0     12  2005\n",
       "\n",
       "[102 rows x 5 columns]"
      ]
     },
     "execution_count": 91,
     "metadata": {},
     "output_type": "execute_result"
    }
   ],
   "source": [
    "df[df[\"rain\"]>rain_fall]"
   ]
  },
  {
   "cell_type": "code",
   "execution_count": 92,
   "id": "108c78f4",
   "metadata": {},
   "outputs": [
    {
     "data": {
      "text/plain": [
       "23.0"
      ]
     },
     "execution_count": 92,
     "metadata": {},
     "output_type": "execute_result"
    }
   ],
   "source": [
    "# Choose the maximuim quantile to fill in the outliers\n",
    "# Month\n",
    "month_data = df[\"month\"].quantile(0.995)\n",
    "month_data"
   ]
  },
  {
   "cell_type": "code",
   "execution_count": 93,
   "id": "cf1b528d",
   "metadata": {},
   "outputs": [
    {
     "data": {
      "text/html": [
       "<div>\n",
       "<style scoped>\n",
       "    .dataframe tbody tr th:only-of-type {\n",
       "        vertical-align: middle;\n",
       "    }\n",
       "\n",
       "    .dataframe tbody tr th {\n",
       "        vertical-align: top;\n",
       "    }\n",
       "\n",
       "    .dataframe thead th {\n",
       "        text-align: right;\n",
       "    }\n",
       "</style>\n",
       "<table border=\"1\" class=\"dataframe\">\n",
       "  <thead>\n",
       "    <tr style=\"text-align: right;\">\n",
       "      <th></th>\n",
       "      <th>upper</th>\n",
       "      <th>lower</th>\n",
       "      <th>rain</th>\n",
       "      <th>month</th>\n",
       "      <th>yr</th>\n",
       "    </tr>\n",
       "  </thead>\n",
       "  <tbody>\n",
       "  </tbody>\n",
       "</table>\n",
       "</div>"
      ],
      "text/plain": [
       "Empty DataFrame\n",
       "Columns: [upper, lower, rain, month, yr]\n",
       "Index: []"
      ]
     },
     "execution_count": 93,
     "metadata": {},
     "output_type": "execute_result"
    }
   ],
   "source": [
    "df[df[\"month\"]>month_data]"
   ]
  },
  {
   "cell_type": "code",
   "execution_count": 95,
   "id": "73b5e109",
   "metadata": {},
   "outputs": [
    {
     "data": {
      "text/plain": [
       "2005.0"
      ]
     },
     "execution_count": 95,
     "metadata": {},
     "output_type": "execute_result"
    }
   ],
   "source": [
    "# Choose the maximuim quantile to fill in the outliers\n",
    "# Year\n",
    "year_data = df[\"yr\"].quantile(0.995)\n",
    "year_data"
   ]
  },
  {
   "cell_type": "code",
   "execution_count": 97,
   "id": "b6d8c166",
   "metadata": {},
   "outputs": [
    {
     "data": {
      "text/html": [
       "<div>\n",
       "<style scoped>\n",
       "    .dataframe tbody tr th:only-of-type {\n",
       "        vertical-align: middle;\n",
       "    }\n",
       "\n",
       "    .dataframe tbody tr th {\n",
       "        vertical-align: top;\n",
       "    }\n",
       "\n",
       "    .dataframe thead th {\n",
       "        text-align: right;\n",
       "    }\n",
       "</style>\n",
       "<table border=\"1\" class=\"dataframe\">\n",
       "  <thead>\n",
       "    <tr style=\"text-align: right;\">\n",
       "      <th></th>\n",
       "      <th>upper</th>\n",
       "      <th>lower</th>\n",
       "      <th>rain</th>\n",
       "      <th>month</th>\n",
       "      <th>yr</th>\n",
       "    </tr>\n",
       "  </thead>\n",
       "  <tbody>\n",
       "  </tbody>\n",
       "</table>\n",
       "</div>"
      ],
      "text/plain": [
       "Empty DataFrame\n",
       "Columns: [upper, lower, rain, month, yr]\n",
       "Index: []"
      ]
     },
     "execution_count": 97,
     "metadata": {},
     "output_type": "execute_result"
    }
   ],
   "source": [
    "df[df[\"yr\"]>year_data]"
   ]
  },
  {
   "cell_type": "markdown",
   "id": "147cb098",
   "metadata": {},
   "source": [
    "### File explored and cleaned"
   ]
  },
  {
   "cell_type": "code",
   "execution_count": 124,
   "id": "f9eaf631",
   "metadata": {},
   "outputs": [],
   "source": [
    "df.to_csv(\"clean csv weather data file\")"
   ]
  },
  {
   "cell_type": "code",
   "execution_count": null,
   "id": "b3c0200b",
   "metadata": {},
   "outputs": [],
   "source": []
  }
 ],
 "metadata": {
  "kernelspec": {
   "display_name": "Python 3 (ipykernel)",
   "language": "python",
   "name": "python3"
  },
  "language_info": {
   "codemirror_mode": {
    "name": "ipython",
    "version": 3
   },
   "file_extension": ".py",
   "mimetype": "text/x-python",
   "name": "python",
   "nbconvert_exporter": "python",
   "pygments_lexer": "ipython3",
   "version": "3.9.12"
  }
 },
 "nbformat": 4,
 "nbformat_minor": 5
}
